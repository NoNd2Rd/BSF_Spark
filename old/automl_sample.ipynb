{
 "cells": [
  {
   "cell_type": "code",
   "execution_count": 1,
   "id": "2c5448e9-98eb-4c20-afc8-7b03e3ff5ea2",
   "metadata": {},
   "outputs": [
    {
     "name": "stdout",
     "output_type": "stream",
     "text": [
      "pmdarima: 2.0.4\n",
      "Performing stepwise search to minimize aic\n",
      " ARIMA(2,1,2)(1,1,1)[12]             : AIC=1020.048, Time=7.79 sec\n",
      " ARIMA(0,1,0)(0,1,0)[12]             : AIC=1031.508, Time=0.06 sec\n",
      " ARIMA(1,1,0)(1,1,0)[12]             : AIC=1020.393, Time=0.28 sec\n",
      " ARIMA(0,1,1)(0,1,1)[12]             : AIC=1021.003, Time=0.42 sec\n",
      " ARIMA(2,1,2)(0,1,1)[12]             : AIC=1019.935, Time=1.84 sec\n",
      " ARIMA(2,1,2)(0,1,0)[12]             : AIC=1019.290, Time=0.57 sec\n",
      " ARIMA(2,1,2)(1,1,0)[12]             : AIC=1019.546, Time=1.83 sec\n",
      " ARIMA(1,1,2)(0,1,0)[12]             : AIC=1024.160, Time=0.24 sec\n",
      " ARIMA(2,1,1)(0,1,0)[12]             : AIC=1017.847, Time=0.56 sec\n",
      " ARIMA(2,1,1)(1,1,0)[12]             : AIC=1017.914, Time=1.54 sec\n",
      " ARIMA(2,1,1)(0,1,1)[12]             : AIC=1018.359, Time=1.48 sec\n",
      " ARIMA(2,1,1)(1,1,1)[12]             : AIC=1018.248, Time=3.05 sec\n",
      " ARIMA(1,1,1)(0,1,0)[12]             : AIC=1022.393, Time=0.14 sec\n",
      " ARIMA(2,1,0)(0,1,0)[12]             : AIC=1022.393, Time=0.12 sec\n",
      " ARIMA(3,1,1)(0,1,0)[12]             : AIC=1019.084, Time=0.55 sec\n",
      " ARIMA(1,1,0)(0,1,0)[12]             : AIC=1020.393, Time=0.08 sec\n",
      " ARIMA(3,1,0)(0,1,0)[12]             : AIC=1023.666, Time=0.17 sec\n",
      " ARIMA(3,1,2)(0,1,0)[12]             : AIC=1021.083, Time=1.01 sec\n",
      " ARIMA(2,1,1)(0,1,0)[12] intercept   : AIC=inf, Time=1.33 sec\n",
      "\n",
      "Best model:  ARIMA(2,1,1)(0,1,0)[12]          \n",
      "Total fit time: 23.373 seconds\n",
      "                                      SARIMAX Results                                      \n",
      "===========================================================================================\n",
      "Dep. Variable:                                   y   No. Observations:                  144\n",
      "Model:             SARIMAX(2, 1, 1)x(0, 1, [], 12)   Log Likelihood                -504.923\n",
      "Date:                             Sat, 20 Sep 2025   AIC                           1017.847\n",
      "Time:                                     11:19:49   BIC                           1029.348\n",
      "Sample:                                          0   HQIC                          1022.520\n",
      "                                             - 144                                         \n",
      "Covariance Type:                               opg                                         \n",
      "==============================================================================\n",
      "                 coef    std err          z      P>|z|      [0.025      0.975]\n",
      "------------------------------------------------------------------------------\n",
      "ar.L1          0.5960      0.085      6.986      0.000       0.429       0.763\n",
      "ar.L2          0.2143      0.091      2.343      0.019       0.035       0.394\n",
      "ma.L1         -0.9819      0.038    -25.597      0.000      -1.057      -0.907\n",
      "sigma2       129.3185     14.558      8.883      0.000     100.786     157.851\n",
      "===================================================================================\n",
      "Ljung-Box (L1) (Q):                   0.00   Jarque-Bera (JB):                 7.68\n",
      "Prob(Q):                              0.98   Prob(JB):                         0.02\n",
      "Heteroskedasticity (H):               2.33   Skew:                            -0.01\n",
      "Prob(H) (two-sided):                  0.01   Kurtosis:                         4.19\n",
      "===================================================================================\n",
      "\n",
      "Warnings:\n",
      "[1] Covariance matrix calculated using the outer product of gradients (complex-step).\n"
     ]
    }
   ],
   "source": [
    "import pmdarima as pm\n",
    "print(\"pmdarima:\", pm.__version__)\n",
    "\n",
    "# test run\n",
    "from pmdarima.datasets import load_airpassengers\n",
    "y = load_airpassengers()\n",
    "\n",
    "model = pm.auto_arima(y, seasonal=True, m=12, trace=True,\n",
    "                      suppress_warnings=True, error_action=\"ignore\")\n",
    "print(model.summary())\n"
   ]
  },
  {
   "cell_type": "code",
   "execution_count": null,
   "id": "94989b22-7145-4fc1-8869-4a067713c684",
   "metadata": {},
   "outputs": [],
   "source": []
  }
 ],
 "metadata": {
  "kernelspec": {
   "display_name": "BSF (3.9)",
   "language": "python",
   "name": "python3.9_bsf"
  },
  "language_info": {
   "codemirror_mode": {
    "name": "ipython",
    "version": 3
   },
   "file_extension": ".py",
   "mimetype": "text/x-python",
   "name": "python",
   "nbconvert_exporter": "python",
   "pygments_lexer": "ipython3",
   "version": "3.9.21"
  }
 },
 "nbformat": 4,
 "nbformat_minor": 5
}
